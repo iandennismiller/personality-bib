{
 "cells": [
  {
   "cell_type": "code",
   "execution_count": 1,
   "metadata": {},
   "outputs": [],
   "source": [
    "setwd(\"~/Work/personality-bib\")\n",
    "source(\"R/idm-science-networks/utils/util.R\")"
   ]
  },
  {
   "cell_type": "code",
   "execution_count": 2,
   "metadata": {},
   "outputs": [
    {
     "output_type": "stream",
     "name": "stdout",
     "text": [
      "[1] \"load library gtools\"\n",
      "[1] \"load library ggplot2\"\n",
      "[1] \"load library knitr\"\n",
      "[1] \"load library igraph\"\n",
      "\n",
      "Attaching package: ‘igraph’\n",
      "\n",
      "\n",
      "The following object is masked from ‘package:gtools’:\n",
      "\n",
      "    permute\n",
      "\n",
      "\n",
      "The following objects are masked from ‘package:stats’:\n",
      "\n",
      "    decompose, spectrum\n",
      "\n",
      "\n",
      "The following object is masked from ‘package:base’:\n",
      "\n",
      "    union\n",
      "\n",
      "\n",
      "[1] \"load library bibtex\"\n",
      "[1] \"load library ggnetwork\"\n",
      "[1] \"load library ggrepel\"\n",
      "[1] \"load library network\"\n",
      "network: Classes for Relational Data\n",
      "Version 1.16.1 created on 2020-10-06.\n",
      "copyright (c) 2005, Carter T. Butts, University of California-Irvine\n",
      "                    Mark S. Handcock, University of California -- Los Angeles\n",
      "                    David R. Hunter, Penn State University\n",
      "                    Martina Morris, University of Washington\n",
      "                    Skye Bender-deMoll, University of Washington\n",
      " For citation information, type citation(\"network\").\n",
      " Type help(\"network-package\") to get started.\n",
      "\n",
      "\n",
      "\n",
      "Attaching package: ‘network’\n",
      "\n",
      "\n",
      "The following objects are masked from ‘package:igraph’:\n",
      "\n",
      "    %c%, %s%, add.edges, add.vertices, delete.edges, delete.vertices,\n",
      "    get.edge.attribute, get.edges, get.vertex.attribute, is.bipartite,\n",
      "    is.directed, list.edge.attributes, list.vertex.attributes,\n",
      "    set.edge.attribute, set.vertex.attribute\n",
      "\n",
      "\n",
      "[1] \"load library sna\"\n",
      "Loading required package: statnet.common\n",
      "\n",
      "\n",
      "Attaching package: ‘statnet.common’\n",
      "\n",
      "\n",
      "The following object is masked from ‘package:base’:\n",
      "\n",
      "    order\n",
      "\n",
      "\n",
      "sna: Tools for Social Network Analysis\n",
      "Version 2.6 created on 2020-10-5.\n",
      "copyright (c) 2005, Carter T. Butts, University of California-Irvine\n",
      " For citation information, type citation(\"sna\").\n",
      " Type help(package=\"sna\") to get started.\n",
      "\n",
      "\n",
      "\n",
      "Attaching package: ‘sna’\n",
      "\n",
      "\n",
      "The following objects are masked from ‘package:igraph’:\n",
      "\n",
      "    betweenness, bonpow, closeness, components, degree, dyad.census,\n",
      "    evcent, hierarchy, is.connected, neighborhood, triad.census\n",
      "\n",
      "\n",
      "[1] \"load library glasso\"\n",
      "[1] \"load library qgraph\"\n",
      "Registered S3 methods overwritten by 'huge':\n",
      "  method    from   \n",
      "  plot.sim  BDgraph\n",
      "  print.sim BDgraph\n",
      "\n",
      "[1] \"load library dplyr\"\n",
      "\n",
      "Attaching package: ‘dplyr’\n",
      "\n",
      "\n",
      "The following objects are masked from ‘package:igraph’:\n",
      "\n",
      "    as_data_frame, groups, union\n",
      "\n",
      "\n",
      "The following objects are masked from ‘package:stats’:\n",
      "\n",
      "    filter, lag\n",
      "\n",
      "\n",
      "The following objects are masked from ‘package:base’:\n",
      "\n",
      "    intersect, setdiff, setequal, union\n",
      "\n",
      "\n"
     ]
    }
   ],
   "source": [
    "\n",
    "\n",
    "library_list = c(\n",
    "    \"gtools\",\n",
    "    \"ggplot2\",\n",
    "    \"knitr\",\n",
    "    \"igraph\",\n",
    "    \"bibtex\",\n",
    "    \"ggnetwork\",\n",
    "    \"ggrepel\",\n",
    "    \"network\",\n",
    "    \"sna\",\n",
    "    \"glasso\",\n",
    "    \"qgraph\",\n",
    "    \"dplyr\"\n",
    ")\n",
    "\n",
    "load_libraries(library_list)"
   ]
  },
  {
   "cell_type": "code",
   "execution_count": 3,
   "metadata": {},
   "outputs": [
    {
     "output_type": "display_data",
     "data": {
      "text/html": "9976",
      "text/markdown": "9976",
      "text/latex": "9976",
      "text/plain": "[1] 9976"
     },
     "metadata": {}
    }
   ],
   "source": [
    "citations = read.bib(\"data/JPSP_a.bib\")\n",
    "\n",
    "# display number of citations imported\n",
    "length(citations)"
   ]
  },
  {
   "cell_type": "code",
   "execution_count": 4,
   "metadata": {},
   "outputs": [
    {
     "output_type": "display_data",
     "data": {
      "text/html": "<style>\n.list-inline {list-style: none; margin:0; padding: 0}\n.list-inline>li {display: inline-block}\n.list-inline>li:not(:last-child)::after {content: \"\\00b7\"; padding: 0 .5ex}\n</style>\n<ol class=list-inline><li>51071</li><li>3</li></ol>\n",
      "text/markdown": "1. 51071\n2. 3\n\n\n",
      "text/latex": "\\begin{enumerate*}\n\\item 51071\n\\item 3\n\\end{enumerate*}\n",
      "text/plain": "[1] 51071     3"
     },
     "metadata": {}
    }
   ],
   "source": [
    "edge_list = data.frame()\n",
    "\n",
    "for (paper in citations) {\n",
    "  authors = unlist(paper$author)\n",
    "\n",
    "  if (length(authors) > 1) {\n",
    "    pairs = data.frame(combinations(n=length(authors), r=2, v=authors))\n",
    "    names(pairs) <- c(\"from\", \"to\")\n",
    "    pairs$article = paper$title\n",
    "    edge_list = rbind(edge_list, pairs)\n",
    "  }\n",
    "}\n",
    "\n",
    "# display size of edge list table\n",
    "dim(edge_list)\n"
   ]
  },
  {
   "cell_type": "code",
   "execution_count": 5,
   "metadata": {},
   "outputs": [
    {
     "output_type": "display_data",
     "data": {
      "text/plain": "Network attributes:\n  vertices = 11704\n  directed = FALSE\n  hyper = FALSE\n  loops = FALSE\n  multiple = FALSE\n  bipartite = FALSE\n total edges = 51071 \n   missing edges = 0 \n   non-missing edges = 51071 \n density = 0.0007457149 \n\nVertex attributes:\n  vertex.names:\n   character valued attribute\n   11704 valid vertex names\n\nEdge attributes:\n\n article:\n   character valued attribute\n   attribute summary:\n   the 10 most common values are:\nPatterns and Universals of Mate Poaching Across 53 Nations: The Effects of Sex, Culture, and Personality on Romantically Attracting Another Person's Partner \n                                                                                                                                                        4950 \n                                             Universal Sex Differences in the Desire for Sexual Variety: Tests from 52 Nations, 6 Continents, and 13 Islands \n                                                                                                                                                        4950 \n                                                                                              Personality profiles of cultures: Aggregate personality traits \n                                                                                                                                                        3240 \n                                                             Universal features of personality traits from the observer's perspective: Data from 50 cultures \n                                                                                                                                                        3160 \n                                                                               Stereotypes of age differences in personality traits: Universal and accurate? \n                                                                                                                                                        1225 \n                                        The emergence of sex differences in personality traits in early adolescence: A cross-sectional, cross-cultural study \n                                                                                                                                                        1176 \n                                                                                                                 Culture, Emotion Regulation, and Adjustment \n                                                                                                                                                         861 \n                                                Culture and the distinctiveness motive: Constructing identity in individualistic and collectivistic contexts \n                                                                                                                                                         780 \n                                                                         Beyond prejudice as simple antipathy: Hostile and benevolent sexism across cultures \n                                                                                                                                                         496 \n                                                                         Cross-Cultural Consistency and Relativity in the Enjoyment of Thinking Versus Doing \n                                                                                                                                                         435 "
     },
     "metadata": {}
    }
   ],
   "source": [
    "coauthors = network(as.matrix(edge_list)[,1:2], directed = FALSE)\n",
    "set.edge.attribute(coauthors, \"article\", edge_list$article)\n",
    "\n",
    "# display attributes of network object 'coauthors'\n",
    "summary(coauthors, print.adj=F)\n"
   ]
  },
  {
   "cell_type": "code",
   "execution_count": 6,
   "metadata": {},
   "outputs": [
    {
     "output_type": "display_data",
     "data": {
      "text/html": "<style>\n.list-inline {list-style: none; margin:0; padding: 0}\n.list-inline>li {display: inline-block}\n.list-inline>li:not(:last-child)::after {content: \"\\00b7\"; padding: 0 .5ex}\n</style>\n<ol class=list-inline><li>11704</li><li>11704</li></ol>\n",
      "text/markdown": "1. 11704\n2. 11704\n\n\n",
      "text/latex": "\\begin{enumerate*}\n\\item 11704\n\\item 11704\n\\end{enumerate*}\n",
      "text/plain": "[1] 11704 11704"
     },
     "metadata": {}
    }
   ],
   "source": [
    "adjacency_matrix = as.sociomatrix(coauthors)\n",
    "\n",
    "# display size of matrix\n",
    "dim(adjacency_matrix)"
   ]
  },
  {
   "cell_type": "code",
   "execution_count": 7,
   "metadata": {},
   "outputs": [
    {
     "output_type": "display_data",
     "data": {
      "text/html": "<table>\n<caption>A grouped_df: 2 × 2</caption>\n<thead>\n\t<tr><th scope=col>value</th><th scope=col>n</th></tr>\n\t<tr><th scope=col>&lt;lgl&gt;</th><th scope=col>&lt;int&gt;</th></tr>\n</thead>\n<tbody>\n\t<tr><td>FALSE</td><td>2766</td></tr>\n\t<tr><td> TRUE</td><td>8938</td></tr>\n</tbody>\n</table>\n",
      "text/markdown": "\nA grouped_df: 2 × 2\n\n| value &lt;lgl&gt; | n &lt;int&gt; |\n|---|---|\n| FALSE | 2766 |\n|  TRUE | 8938 |\n\n",
      "text/latex": "A grouped\\_df: 2 × 2\n\\begin{tabular}{ll}\n value & n\\\\\n <lgl> & <int>\\\\\n\\hline\n\t FALSE & 2766\\\\\n\t  TRUE & 8938\\\\\n\\end{tabular}\n",
      "text/plain": "  value n   \n1 FALSE 2766\n2  TRUE 8938"
     },
     "metadata": {}
    }
   ],
   "source": [
    "cl = component.largest(coauthors, connected='weak')\n",
    "\n",
    "# display number of members in largest component\n",
    "cl %>% as_tibble() %>% group_by(value) %>% count()\n"
   ]
  },
  {
   "cell_type": "code",
   "execution_count": 8,
   "metadata": {},
   "outputs": [
    {
     "output_type": "display_data",
     "data": {
      "text/plain": "Network attributes:\n  vertices = 8938\n  directed = FALSE\n  hyper = FALSE\n  loops = FALSE\n  multiple = FALSE\n  bipartite = FALSE\n total edges = 47924 \n   missing edges = 0 \n   non-missing edges = 47924 \n density = 0.001199916 \n\nVertex attributes:\n  vertex.names:\n   character valued attribute\n   8938 valid vertex names\n\nEdge attributes:\n\n article:\n   character valued attribute\n   attribute summary:\n   the 10 most common values are:\nPatterns and Universals of Mate Poaching Across 53 Nations: The Effects of Sex, Culture, and Personality on Romantically Attracting Another Person's Partner \n                                                                                                                                                        4950 \n                                             Universal Sex Differences in the Desire for Sexual Variety: Tests from 52 Nations, 6 Continents, and 13 Islands \n                                                                                                                                                        4950 \n                                                                                              Personality profiles of cultures: Aggregate personality traits \n                                                                                                                                                        3240 \n                                                             Universal features of personality traits from the observer's perspective: Data from 50 cultures \n                                                                                                                                                        3160 \n                                                                               Stereotypes of age differences in personality traits: Universal and accurate? \n                                                                                                                                                        1225 \n                                        The emergence of sex differences in personality traits in early adolescence: A cross-sectional, cross-cultural study \n                                                                                                                                                        1176 \n                                                                                                                 Culture, Emotion Regulation, and Adjustment \n                                                                                                                                                         861 \n                                                Culture and the distinctiveness motive: Constructing identity in individualistic and collectivistic contexts \n                                                                                                                                                         780 \n                                                                         Beyond prejudice as simple antipathy: Hostile and benevolent sexism across cultures \n                                                                                                                                                         496 \n                                                                         Cross-Cultural Consistency and Relativity in the Enjoyment of Thinking Versus Doing \n                                                                                                                                                         435 "
     },
     "metadata": {}
    }
   ],
   "source": [
    "biggest = get.inducedSubgraph(coauthors,v=(1:network.size(coauthors))[cl])\n",
    "\n",
    "# display attributes of network object 'biggest'\n",
    "summary(biggest, print.adj=F)"
   ]
  },
  {
   "cell_type": "code",
   "execution_count": 9,
   "metadata": {},
   "outputs": [],
   "source": [
    "# store RData so it can be loaded quickly without a full rebuild\n",
    "save.image(\"data/canonical.RData.gz\", compress=TRUE)"
   ]
  },
  {
   "cell_type": "code",
   "execution_count": 10,
   "metadata": {},
   "outputs": [],
   "source": [
    "# load RData\n",
    "load(\"data/canonical.RData.gz\")"
   ]
  },
  {
   "cell_type": "code",
   "execution_count": null,
   "metadata": {},
   "outputs": [],
   "source": []
  }
 ],
 "metadata": {
  "kernelspec": {
   "display_name": "R",
   "language": "R",
   "name": "ir"
  },
  "language_info": {
   "codemirror_mode": "r",
   "file_extension": ".r",
   "mimetype": "text/x-r-source",
   "name": "R",
   "pygments_lexer": "r",
   "version": "3.6.9-final"
  }
 },
 "nbformat": 4,
 "nbformat_minor": 2
}