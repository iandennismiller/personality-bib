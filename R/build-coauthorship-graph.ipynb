{
 "cells": [
  {
   "cell_type": "code",
   "execution_count": 1,
   "metadata": {},
   "outputs": [],
   "source": [
    "setwd(\"~/Work/personality-bib\")\n",
    "source(\"R/idm-science-networks/utils/util.R\")"
   ]
  },
  {
   "cell_type": "code",
   "execution_count": 2,
   "metadata": {},
   "outputs": [
    {
     "output_type": "stream",
     "name": "stdout",
     "text": [
      "[1] \"load library ggplot2\"\n",
      "[1] \"load library knitr\"\n",
      "[1] \"load library igraph\"\n",
      "\n",
      "Attaching package: ‘igraph’\n",
      "\n",
      "\n",
      "The following objects are masked from ‘package:stats’:\n",
      "\n",
      "    decompose, spectrum\n",
      "\n",
      "\n",
      "The following object is masked from ‘package:base’:\n",
      "\n",
      "    union\n",
      "\n",
      "\n",
      "[1] \"load library bibtex\"\n",
      "[1] \"load library ggnetwork\"\n",
      "[1] \"load library ggrepel\"\n",
      "[1] \"load library network\"\n",
      "network: Classes for Relational Data\n",
      "Version 1.16.1 created on 2020-10-06.\n",
      "copyright (c) 2005, Carter T. Butts, University of California-Irvine\n",
      "                    Mark S. Handcock, University of California -- Los Angeles\n",
      "                    David R. Hunter, Penn State University\n",
      "                    Martina Morris, University of Washington\n",
      "                    Skye Bender-deMoll, University of Washington\n",
      " For citation information, type citation(\"network\").\n",
      " Type help(\"network-package\") to get started.\n",
      "\n",
      "\n",
      "\n",
      "Attaching package: ‘network’\n",
      "\n",
      "\n",
      "The following objects are masked from ‘package:igraph’:\n",
      "\n",
      "    %c%, %s%, add.edges, add.vertices, delete.edges, delete.vertices,\n",
      "    get.edge.attribute, get.edges, get.vertex.attribute, is.bipartite,\n",
      "    is.directed, list.edge.attributes, list.vertex.attributes,\n",
      "    set.edge.attribute, set.vertex.attribute\n",
      "\n",
      "\n",
      "[1] \"load library sna\"\n",
      "Loading required package: statnet.common\n",
      "\n",
      "\n",
      "Attaching package: ‘statnet.common’\n",
      "\n",
      "\n",
      "The following object is masked from ‘package:base’:\n",
      "\n",
      "    order\n",
      "\n",
      "\n",
      "sna: Tools for Social Network Analysis\n",
      "Version 2.6 created on 2020-10-5.\n",
      "copyright (c) 2005, Carter T. Butts, University of California-Irvine\n",
      " For citation information, type citation(\"sna\").\n",
      " Type help(package=\"sna\") to get started.\n",
      "\n",
      "\n",
      "\n",
      "Attaching package: ‘sna’\n",
      "\n",
      "\n",
      "The following objects are masked from ‘package:igraph’:\n",
      "\n",
      "    betweenness, bonpow, closeness, components, degree, dyad.census,\n",
      "    evcent, hierarchy, is.connected, neighborhood, triad.census\n",
      "\n",
      "\n",
      "[1] \"load library glasso\"\n",
      "[1] \"load library qgraph\"\n",
      "Registered S3 methods overwritten by 'huge':\n",
      "  method    from   \n",
      "  plot.sim  BDgraph\n",
      "  print.sim BDgraph\n",
      "\n"
     ]
    }
   ],
   "source": [
    "\n",
    "\n",
    "library_list = c(\n",
    "    \"ggplot2\",\n",
    "    \"knitr\",\n",
    "    \"igraph\",\n",
    "    \"bibtex\",\n",
    "    \"ggnetwork\",\n",
    "    \"ggrepel\",\n",
    "    \"network\",\n",
    "    \"sna\",\n",
    "    \"glasso\",\n",
    "    \"qgraph\"\n",
    ")\n",
    "\n",
    "load_libraries(library_list)"
   ]
  },
  {
   "cell_type": "code",
   "execution_count": 3,
   "metadata": {},
   "outputs": [],
   "source": [
    "citations = read.bib(\"data/JPSP_a.bib\")"
   ]
  },
  {
   "cell_type": "code",
   "execution_count": 4,
   "metadata": {},
   "outputs": [
    {
     "output_type": "error",
     "ename": "ERROR",
     "evalue": "Error in combinations(n = length(authors), r = 2, v = authors): could not find function \"combinations\"\n",
     "traceback": [
      "Error in combinations(n = length(authors), r = 2, v = authors): could not find function \"combinations\"\nTraceback:\n",
      "1. data.frame(combinations(n = length(authors), r = 2, v = authors))"
     ]
    }
   ],
   "source": [
    "edge_list = data.frame()\n",
    "\n",
    "for (paper in citations) {\n",
    "  authors = unlist(paper$author)\n",
    "\n",
    "  if (length(authors) > 1) {\n",
    "    pairs = data.frame(combinations(n=length(authors), r=2, v=authors))\n",
    "    names(pairs) <- c(\"from\", \"to\")\n",
    "    pairs$article = paper$title\n",
    "    edge_list = rbind(edge_list, pairs)\n",
    "  }\n",
    "}\n"
   ]
  },
  {
   "cell_type": "code",
   "execution_count": 6,
   "metadata": {},
   "outputs": [],
   "source": [
    "coauthors = network(as.matrix(edge_list)[,1:2], directed = FALSE)\n",
    "set.edge.attribute(coauthors, \"article\", edge_list$article)\n"
   ]
  },
  {
   "cell_type": "code",
   "execution_count": 7,
   "metadata": {},
   "outputs": [],
   "source": [
    "adjacency_matrix = as.sociomatrix(coauthors)"
   ]
  },
  {
   "cell_type": "code",
   "execution_count": 8,
   "metadata": {},
   "outputs": [],
   "source": [
    "cl = component.largest(coauthors, connected='weak')\n"
   ]
  },
  {
   "cell_type": "code",
   "execution_count": 9,
   "metadata": {},
   "outputs": [],
   "source": [
    "biggest = get.inducedSubgraph(coauthors,v=(1:network.size(coauthors))[cl])"
   ]
  },
  {
   "cell_type": "code",
   "execution_count": 10,
   "metadata": {},
   "outputs": [],
   "source": [
    "save.image(\"data/canonical.RData.gz\", compress=TRUE)"
   ]
  },
  {
   "cell_type": "code",
   "execution_count": null,
   "metadata": {},
   "outputs": [],
   "source": []
  }
 ],
 "metadata": {
  "kernelspec": {
   "display_name": "R",
   "language": "R",
   "name": "ir"
  },
  "language_info": {
   "codemirror_mode": "r",
   "file_extension": ".r",
   "mimetype": "text/x-r-source",
   "name": "R",
   "pygments_lexer": "r",
   "version": "3.6.9-final"
  }
 },
 "nbformat": 4,
 "nbformat_minor": 2
}