{
 "cells": [
  {
   "cell_type": "code",
   "execution_count": 2,
   "metadata": {},
   "outputs": [
    {
     "data": {
      "text/plain": [
       "                                       Journal.Name        ISSN         eISSN  \n",
       " American Psychologist                       :1     0003-066X:1   1095-7251:1  \n",
       " Assessment                                  :1     0022-3506:1   1099-0984:1  \n",
       " European Journal of Personality             :1     0022-3514:1   1467-6494:1  \n",
       " Journal of Personality                      :1     0022-3891:1   1532-7752:1  \n",
       " Journal of Personality and Social Psychology:1     0033-2909:1   1532-7957:1  \n",
       " Journal of Personality Assessment           :1     0033-295X:1   1532-7965:1  \n",
       " (Other)                                     :9     (Other)  :9   (Other)  :9  "
      ]
     },
     "metadata": {},
     "output_type": "display_data"
    }
   ],
   "source": [
    "journals = read.csv('data/journals.csv')\n",
    "summary(journals)"
   ]
  },
  {
   "cell_type": "code",
   "execution_count": 1,
   "metadata": {},
   "outputs": [
    {
     "name": "stderr",
     "output_type": "stream",
     "text": [
      "To cite bibliometrix in publications, please use:\n",
      "\n",
      "Aria, M. & Cuccurullo, C. (2017) bibliometrix: An R-tool for comprehensive science mapping analysis, Journal of Informetrics, 11(4), pp 959-975, Elsevier.\n",
      "                        \n",
      "\n",
      "http:\\\\www.bibliometrix.org\n",
      "\n",
      "                        \n",
      "To start with the shiny web-interface, please digit:\n",
      "biblioshiny()\n",
      "\n"
     ]
    }
   ],
   "source": [
    "library(bibliometrix)"
   ]
  }
 ],
 "metadata": {
  "kernelspec": {
   "display_name": "R",
   "language": "R",
   "name": "ir"
  },
  "language_info": {
   "codemirror_mode": "r",
   "file_extension": ".r",
   "mimetype": "text/x-r-source",
   "name": "R",
   "pygments_lexer": "r",
   "version": "3.6.1"
  }
 },
 "nbformat": 4,
 "nbformat_minor": 2
}
