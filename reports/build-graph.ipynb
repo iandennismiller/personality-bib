{
 "cells": [
  {
   "cell_type": "code",
   "execution_count": null,
   "id": "fa0521af-010b-4d9f-80d6-e90dbcca4629",
   "metadata": {},
   "outputs": [],
   "source": [
    "import sys\n",
    "import click\n",
    "import igraph\n",
    "import pandas\n",
    "from pybliometrics.scopus import ScopusSearch\n",
    "from personality_bib.builder import build_per_decade, build_all_time"
   ]
  },
  {
   "cell_type": "code",
   "execution_count": null,
   "id": "f983036d-46cc-4343-a3ad-80bec0ad8b6a",
   "metadata": {},
   "outputs": [],
   "source": [
    "decade_list = [\n",
    "    [1990, 1999], \n",
    "]\n",
    "build_per_decade(decade_list, path=\"../var/90s-test.graphml\")"
   ]
  },
  {
   "cell_type": "code",
   "execution_count": null,
   "id": "324d5998-fe3e-46a5-aa72-94ec35c4c7d0",
   "metadata": {},
   "outputs": [],
   "source": [
    "decade_list = [\n",
    "        [1970, 1979], \n",
    "        [1980, 1989], \n",
    "        [1990, 1999], \n",
    "        [2000, 2009], \n",
    "        [2010, 2020], \n",
    "    ]\n",
    "\n",
    "build_per_decade(decade_list, path=\"../products/graphs\")"
   ]
  }
 ],
 "metadata": {
  "kernelspec": {
   "display_name": "Python 3 (ipykernel)",
   "language": "python",
   "name": "python3"
  },
  "language_info": {
   "codemirror_mode": {
    "name": "ipython",
    "version": 3
   },
   "file_extension": ".py",
   "mimetype": "text/x-python",
   "name": "python",
   "nbconvert_exporter": "python",
   "pygments_lexer": "ipython3",
   "version": "3.8.9"
  }
 },
 "nbformat": 4,
 "nbformat_minor": 5
}
