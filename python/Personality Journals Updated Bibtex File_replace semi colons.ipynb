{
 "cells": [
  {
   "cell_type": "markdown",
   "metadata": {},
   "source": [
    "# Scopus Queries"
   ]
  },
  {
   "cell_type": "code",
   "execution_count": 1,
   "metadata": {},
   "outputs": [],
   "source": [
    "import pandas\n",
    "from pybliometrics.scopus import ScopusSearch"
   ]
  },
  {
   "cell_type": "code",
   "execution_count": 2,
   "metadata": {},
   "outputs": [],
   "source": [
    "bib_fmt = \"\"\"\n",
    "@article {{abbr,\n",
    "  title = {{{title}}},\n",
    "  author = {{{author}}},\n",
    "  year = {{{year}}},\n",
    "  volume = {{{volume}}},\n",
    "  issn = {{{issn}}},\n",
    "  abstract = {{{abstract}}},\n",
    "  journal = {{{journal}}},\n",
    "  keywords = {{{keywords}}},\n",
    "  \n",
    "}}\n",
    "\"\"\"\n"
   ]
  },
  {
   "cell_type": "code",
   "execution_count": 12,
   "metadata": {},
   "outputs": [],
   "source": [
    "def format_item(result):\n",
    "    if result.author_ids is not None:\n",
    "        author_ids = result.author_ids.replace(\";\", \" and \")\n",
    "    else:\n",
    "        author_ids = \"\"\n",
    "\n",
    "    if result.authkeywords is not None:\n",
    "        keywords = result.authkeywords.replace(\" | \", \", \")\n",
    "    else:\n",
    "        keywords = \"\"\n",
    "\n",
    "    try:\n",
    "        cover_date = result.coverDate.split(\"-\")[0]\n",
    "    except:\n",
    "        cover_date = 1900\n",
    "\n",
    "    return(bib_fmt.format(\n",
    "        abbr=result.doi,\n",
    "        title=result.title,\n",
    "        author=author_ids,\n",
    "        year=cover_date,\n",
    "        volume=result.issueIdentifier,\n",
    "        issn=result.issn,\n",
    "        abstract=result.description,\n",
    "        journal=result.publicationName,\n",
    "        keywords=keywords\n",
    "    ))"
   ]
  },
  {
   "cell_type": "code",
   "execution_count": 4,
   "metadata": {},
   "outputs": [],
   "source": [
    "def write_results(results, filename):\n",
    "    buf = \"\"\n",
    "    for result in results:\n",
    "        buf += format_item(result)\n",
    "    with open(filename, \"wb\") as f:\n",
    "        f.write(buf.encode('utf8'))"
   ]
  },
  {
   "cell_type": "markdown",
   "metadata": {},
   "source": [
    "## JPSP"
   ]
  },
  {
   "cell_type": "code",
   "execution_count": 13,
   "metadata": {
    "tags": []
   },
   "outputs": [
    {
     "output_type": "stream",
     "name": "stdout",
     "text": "10035\n"
    }
   ],
   "source": [
    "s = ScopusSearch('ISSN ( 0022-3514 )')\n",
    "write_results(s.results, \"JPSP_a.bib\")\n",
    "print(s.get_results_size())"
   ]
  },
  {
   "cell_type": "markdown",
   "metadata": {},
   "source": [
    "## JRP"
   ]
  },
  {
   "cell_type": "code",
   "execution_count": 26,
   "metadata": {},
   "outputs": [
    {
     "name": "stdout",
     "output_type": "stream",
     "text": [
      "2616\n"
     ]
    }
   ],
   "source": [
    "s = ScopusSearch('ISSN ( 0092-6566 )')\n",
    "write_results(s.results, \"JRP.bib\")\n",
    "print(s.get_results_size())"
   ]
  },
  {
   "cell_type": "code",
   "execution_count": null,
   "metadata": {},
   "outputs": [],
   "source": []
  },
  {
   "cell_type": "markdown",
   "metadata": {},
   "source": [
    "## JP"
   ]
  },
  {
   "cell_type": "code",
   "execution_count": 27,
   "metadata": {},
   "outputs": [
    {
     "name": "stdout",
     "output_type": "stream",
     "text": [
      "3576\n"
     ]
    }
   ],
   "source": [
    "s = ScopusSearch('ISSN ( 0022-3506 )')\n",
    "write_results(s.results, \"JP.bib\")\n",
    "print(s.get_results_size())"
   ]
  },
  {
   "cell_type": "markdown",
   "metadata": {},
   "source": [
    "## EJP"
   ]
  },
  {
   "cell_type": "code",
   "execution_count": 28,
   "metadata": {},
   "outputs": [
    {
     "name": "stdout",
     "output_type": "stream",
     "text": [
      "1321\n"
     ]
    }
   ],
   "source": [
    "s = ScopusSearch('ISSN ( 0890-2070 )')\n",
    "write_results(s.results, \"EJP.bib\")\n",
    "print(s.get_results_size())"
   ]
  },
  {
   "cell_type": "markdown",
   "metadata": {},
   "source": [
    "## PID"
   ]
  },
  {
   "cell_type": "code",
   "execution_count": 29,
   "metadata": {},
   "outputs": [
    {
     "name": "stdout",
     "output_type": "stream",
     "text": [
      "11322\n"
     ]
    }
   ],
   "source": [
    "s = ScopusSearch('ISSN ( 0191-8869 )')\n",
    "write_results(s.results, \"PID.bib\")\n",
    "print(s.get_results_size())"
   ]
  },
  {
   "cell_type": "markdown",
   "metadata": {},
   "source": [
    "## PSPB"
   ]
  },
  {
   "cell_type": "code",
   "execution_count": 30,
   "metadata": {},
   "outputs": [
    {
     "name": "stdout",
     "output_type": "stream",
     "text": [
      "3110\n"
     ]
    }
   ],
   "source": [
    "s = ScopusSearch('ISSN ( 0146-1672 )')\n",
    "write_results(s.results, \"PSPB.bib\")\n",
    "print(s.get_results_size())"
   ]
  },
  {
   "cell_type": "markdown",
   "metadata": {},
   "source": [
    "## PSPR"
   ]
  },
  {
   "cell_type": "code",
   "execution_count": 31,
   "metadata": {},
   "outputs": [
    {
     "name": "stdout",
     "output_type": "stream",
     "text": [
      "470\n"
     ]
    }
   ],
   "source": [
    "s = ScopusSearch('ISSN ( 1088-8683 )')\n",
    "write_results(s.results, \"PSPR.bib\")\n",
    "print(s.get_results_size())"
   ]
  },
  {
   "cell_type": "markdown",
   "metadata": {},
   "source": [
    "## SPPS"
   ]
  },
  {
   "cell_type": "code",
   "execution_count": 32,
   "metadata": {},
   "outputs": [
    {
     "name": "stdout",
     "output_type": "stream",
     "text": [
      "1110\n"
     ]
    }
   ],
   "source": [
    "s = ScopusSearch('ISSN ( 1948-5506 )')\n",
    "write_results(s.results, \"SPPS.bib\")\n",
    "print(s.get_results_size())"
   ]
  },
  {
   "cell_type": "markdown",
   "metadata": {},
   "source": [
    "## JPA"
   ]
  },
  {
   "cell_type": "code",
   "execution_count": 33,
   "metadata": {},
   "outputs": [
    {
     "name": "stdout",
     "output_type": "stream",
     "text": [
      "4260\n"
     ]
    }
   ],
   "source": [
    "s = ScopusSearch('ISSN ( 0022-3891 )')\n",
    "write_results(s.results, \"JPA.bib\")\n",
    "print(s.get_results_size())"
   ]
  },
  {
   "cell_type": "markdown",
   "metadata": {},
   "source": [
    "## SBP"
   ]
  },
  {
   "cell_type": "code",
   "execution_count": 34,
   "metadata": {},
   "outputs": [
    {
     "name": "stdout",
     "output_type": "stream",
     "text": [
      "2611\n"
     ]
    }
   ],
   "source": [
    "s = ScopusSearch('ISSN ( 0301-2212 )')\n",
    "write_results(s.results, \"SBP.bib\")\n",
    "print(s.get_results_size())"
   ]
  }
 ],
 "metadata": {
  "kernelspec": {
   "display_name": "Python 3",
   "language": "python",
   "name": "python3"
  },
  "language_info": {
   "codemirror_mode": {
    "name": "ipython",
    "version": 3
   },
   "file_extension": ".py",
   "mimetype": "text/x-python",
   "name": "python",
   "nbconvert_exporter": "python",
   "pygments_lexer": "ipython3",
   "version": "3.7.3-final"
  }
 },
 "nbformat": 4,
 "nbformat_minor": 2
}