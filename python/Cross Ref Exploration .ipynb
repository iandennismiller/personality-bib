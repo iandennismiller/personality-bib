{
 "cells": [
  {
   "cell_type": "code",
   "execution_count": 2,
   "metadata": {},
   "outputs": [
    {
     "name": "stdout",
     "output_type": "stream",
     "text": [
      "Requirement already satisfied: crossrefapi in c:\\users\\chris\\anaconda3\\lib\\site-packages (1.5.0)Note: you may need to restart the kernel to use updated packages.\n",
      "Requirement already satisfied: requests>=2.11.1 in c:\\users\\chris\\anaconda3\\lib\\site-packages (from crossrefapi) (2.24.0)\n",
      "Requirement already satisfied: certifi>=2017.4.17 in c:\\users\\chris\\anaconda3\\lib\\site-packages (from requests>=2.11.1->crossrefapi) (2020.6.20)\n",
      "\n",
      "Requirement already satisfied: idna<3,>=2.5 in c:\\users\\chris\\anaconda3\\lib\\site-packages (from requests>=2.11.1->crossrefapi) (2.10)\n",
      "Requirement already satisfied: chardet<4,>=3.0.2 in c:\\users\\chris\\anaconda3\\lib\\site-packages (from requests>=2.11.1->crossrefapi) (3.0.4)\n",
      "Requirement already satisfied: urllib3!=1.25.0,!=1.25.1,<1.26,>=1.21.1 in c:\\users\\chris\\anaconda3\\lib\\site-packages (from requests>=2.11.1->crossrefapi) (1.25.9)\n"
     ]
    }
   ],
   "source": [
    "pip install crossrefapi"
   ]
  },
  {
   "cell_type": "code",
   "execution_count": 3,
   "metadata": {},
   "outputs": [],
   "source": [
    "from crossref.restful import Works\n",
    "works = Works()"
   ]
  },
  {
   "cell_type": "code",
   "execution_count": 36,
   "metadata": {},
   "outputs": [
    {
     "data": {
      "text/plain": [
       "{'last-status-check-time': 1604322274796,\n",
       " 'counts': {'total-dois': 4153, 'current-dois': 262, 'backfile-dois': 3891},\n",
       " 'breakdowns': {'dois-by-issued-year': [[2013, 107],\n",
       "   [2018, 95],\n",
       "   [2019, 94],\n",
       "   [2017, 76],\n",
       "   [2014, 74],\n",
       "   [2009, 74],\n",
       "   [2020, 73],\n",
       "   [2016, 73],\n",
       "   [2015, 73],\n",
       "   [2010, 73],\n",
       "   [2006, 69],\n",
       "   [2012, 67],\n",
       "   [2007, 64],\n",
       "   [2011, 62],\n",
       "   [2005, 62],\n",
       "   [2008, 55],\n",
       "   [1998, 50],\n",
       "   [1959, 50],\n",
       "   [1935, 50],\n",
       "   [2000, 49],\n",
       "   [1978, 49],\n",
       "   [1965, 49],\n",
       "   [1964, 49],\n",
       "   [2004, 48],\n",
       "   [1975, 48],\n",
       "   [1974, 48],\n",
       "   [1972, 48],\n",
       "   [1971, 48],\n",
       "   [1970, 48],\n",
       "   [1969, 48],\n",
       "   [1968, 48],\n",
       "   [1967, 48],\n",
       "   [1966, 48],\n",
       "   [1979, 47],\n",
       "   [1973, 47],\n",
       "   [2003, 46],\n",
       "   [1958, 46],\n",
       "   [1963, 45],\n",
       "   [1960, 45],\n",
       "   [1957, 45],\n",
       "   [1953, 45],\n",
       "   [1999, 44],\n",
       "   [1976, 44],\n",
       "   [2001, 43],\n",
       "   [1997, 43],\n",
       "   [1983, 43],\n",
       "   [1948, 43],\n",
       "   [1938, 42],\n",
       "   [1977, 41],\n",
       "   [1962, 41],\n",
       "   [1961, 41],\n",
       "   [1954, 41],\n",
       "   [1995, 40],\n",
       "   [1988, 40],\n",
       "   [1987, 40],\n",
       "   [1986, 40],\n",
       "   [1980, 40],\n",
       "   [1956, 40],\n",
       "   [1996, 39],\n",
       "   [1992, 39],\n",
       "   [1982, 39],\n",
       "   [1952, 39],\n",
       "   [1949, 39],\n",
       "   [1939, 39],\n",
       "   [1934, 39],\n",
       "   [1951, 38],\n",
       "   [1950, 38],\n",
       "   [1940, 38],\n",
       "   [1994, 37],\n",
       "   [1993, 37],\n",
       "   [1989, 37],\n",
       "   [1985, 37],\n",
       "   [1981, 37],\n",
       "   [1955, 37],\n",
       "   [1937, 37],\n",
       "   [1936, 37],\n",
       "   [1933, 37],\n",
       "   [1990, 36],\n",
       "   [1991, 35],\n",
       "   [2002, 34],\n",
       "   [1942, 34],\n",
       "   [1941, 33],\n",
       "   [1984, 32],\n",
       "   [1944, 28],\n",
       "   [1943, 28],\n",
       "   [1947, 27],\n",
       "   [1946, 26],\n",
       "   [1932, 20],\n",
       "   [1945, 11]]},\n",
       " 'publisher': 'Wiley (Blackwell Publishing)',\n",
       " 'coverage': {'affiliations-current': 0.8587786555290222,\n",
       "  'similarity-checking-current': 0.9389312863349915,\n",
       "  'funders-backfile': 0.0431765615940094,\n",
       "  'licenses-backfile': 0.9935749173164368,\n",
       "  'funders-current': 0.5305343270301819,\n",
       "  'affiliations-backfile': 0.12875866889953613,\n",
       "  'resource-links-backfile': 0.9922899007797241,\n",
       "  'orcids-backfile': 0.014906194061040878,\n",
       "  'update-policies-current': 0.7557252049446106,\n",
       "  'open-references-backfile': 1.0,\n",
       "  'orcids-current': 0.8206107020378113,\n",
       "  'similarity-checking-backfile': 0.06784888356924057,\n",
       "  'references-backfile': 0.7291184663772583,\n",
       "  'award-numbers-backfile': 0.030326394364237785,\n",
       "  'update-policies-backfile': 0.0,\n",
       "  'licenses-current': 0.9389312863349915,\n",
       "  'award-numbers-current': 0.38167938590049744,\n",
       "  'abstracts-backfile': 0.0,\n",
       "  'resource-links-current': 0.9389312863349915,\n",
       "  'abstracts-current': 0.0,\n",
       "  'open-references-current': 1.0,\n",
       "  'references-current': 0.8358778357505798},\n",
       " 'title': 'Journal of Personality',\n",
       " 'subjects': [{'name': 'Social Psychology', 'ASJC': 3207}],\n",
       " 'coverage-type': {'all': {'last-status-check-time': 1604322263435,\n",
       "   'affiliations': 0.17477130889892578,\n",
       "   'abstracts': 0.0,\n",
       "   'orcids': 0.06571979075670242,\n",
       "   'licenses': 0.9898892641067505,\n",
       "   'references': 0.7356764674186707,\n",
       "   'funders': 0.07390467077493668,\n",
       "   'similarity-checking': 0.12277323007583618,\n",
       "   'award-numbers': 0.052479539066553116,\n",
       "   'update-policies': 0.04766490310430527,\n",
       "   'resource-links': 0.9886856079101562,\n",
       "   'open-references': 1.0},\n",
       "  'backfile': {'last-status-check-time': 1604322259948,\n",
       "   'affiliations': 0.12875866889953613,\n",
       "   'abstracts': 0.0,\n",
       "   'orcids': 0.014906194061040878,\n",
       "   'licenses': 0.9935749173164368,\n",
       "   'references': 0.7291184663772583,\n",
       "   'funders': 0.0431765615940094,\n",
       "   'similarity-checking': 0.06784888356924057,\n",
       "   'award-numbers': 0.030326394364237785,\n",
       "   'update-policies': 0.0,\n",
       "   'resource-links': 0.9922899007797241,\n",
       "   'open-references': 1.0},\n",
       "  'current': {'last-status-check-time': 1604322256257,\n",
       "   'affiliations': 0.8587786555290222,\n",
       "   'abstracts': 0.0,\n",
       "   'orcids': 0.8206107020378113,\n",
       "   'licenses': 0.9389312863349915,\n",
       "   'references': 0.8358778357505798,\n",
       "   'funders': 0.5305343270301819,\n",
       "   'similarity-checking': 0.9389312863349915,\n",
       "   'award-numbers': 0.38167938590049744,\n",
       "   'update-policies': 0.7557252049446106,\n",
       "   'resource-links': 0.9389312863349915,\n",
       "   'open-references': 1.0}},\n",
       " 'flags': {'deposits-abstracts-current': False,\n",
       "  'deposits-orcids-current': True,\n",
       "  'deposits': True,\n",
       "  'deposits-affiliations-backfile': True,\n",
       "  'deposits-update-policies-backfile': False,\n",
       "  'deposits-similarity-checking-backfile': True,\n",
       "  'deposits-award-numbers-current': True,\n",
       "  'deposits-resource-links-current': True,\n",
       "  'deposits-articles': True,\n",
       "  'deposits-affiliations-current': True,\n",
       "  'deposits-funders-current': True,\n",
       "  'deposits-references-backfile': True,\n",
       "  'deposits-abstracts-backfile': False,\n",
       "  'deposits-licenses-backfile': True,\n",
       "  'deposits-award-numbers-backfile': True,\n",
       "  'deposits-open-references-backfile': True,\n",
       "  'deposits-open-references-current': True,\n",
       "  'deposits-references-current': True,\n",
       "  'deposits-resource-links-backfile': True,\n",
       "  'deposits-orcids-backfile': True,\n",
       "  'deposits-funders-backfile': True,\n",
       "  'deposits-update-policies-current': True,\n",
       "  'deposits-similarity-checking-current': True,\n",
       "  'deposits-licenses-current': True},\n",
       " 'ISSN': ['1467-6494', '0022-3506'],\n",
       " 'issn-type': [{'value': '1467-6494', 'type': 'electronic'},\n",
       "  {'value': '0022-3506', 'type': 'print'}]}"
      ]
     },
     "execution_count": 36,
     "metadata": {},
     "output_type": "execute_result"
    }
   ],
   "source": [
    "from crossref.restful import Journals\n",
    "\n",
    "journals = Journals()\n",
    "journal = journals.journal('0022-3506')\n",
    "journal"
   ]
  },
  {
   "cell_type": "code",
   "execution_count": 40,
   "metadata": {},
   "outputs": [
    {
     "data": {
      "text/plain": [
       "True"
      ]
     },
     "execution_count": 40,
     "metadata": {},
     "output_type": "execute_result"
    }
   ],
   "source": [
    "journals.journal_exists('0022-3506')"
   ]
  },
  {
   "cell_type": "code",
   "execution_count": 48,
   "metadata": {},
   "outputs": [
    {
     "data": {
      "text/plain": [
       "<crossref.restful.Works at 0x21d289df2e0>"
      ]
     },
     "execution_count": 48,
     "metadata": {},
     "output_type": "execute_result"
    }
   ],
   "source": [
    "journal_works = journals.works('0022-3506')\n",
    "journal_works"
   ]
  },
  {
   "cell_type": "code",
   "execution_count": 47,
   "metadata": {},
   "outputs": [
    {
     "data": {
      "text/plain": [
       "'https://api.crossref.org/journals/0022-3506/works'"
      ]
     },
     "execution_count": 47,
     "metadata": {},
     "output_type": "execute_result"
    }
   ],
   "source": [
    "journals.works('0022-3506').url"
   ]
  },
  {
   "cell_type": "code",
   "execution_count": null,
   "metadata": {},
   "outputs": [],
   "source": []
  }
 ],
 "metadata": {
  "kernelspec": {
   "display_name": "Python 3",
   "language": "python",
   "name": "python3"
  },
  "language_info": {
   "codemirror_mode": {
    "name": "ipython",
    "version": 3
   },
   "file_extension": ".py",
   "mimetype": "text/x-python",
   "name": "python",
   "nbconvert_exporter": "python",
   "pygments_lexer": "ipython3",
   "version": "3.8.3"
  }
 },
 "nbformat": 4,
 "nbformat_minor": 4
}
