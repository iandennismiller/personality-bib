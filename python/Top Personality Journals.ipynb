{
 "cells": [
  {
   "cell_type": "markdown",
   "metadata": {},
   "source": [
    "# Scopus Queries"
   ]
  },
  {
   "cell_type": "code",
   "execution_count": 2,
   "metadata": {},
   "outputs": [],
   "source": [
    "import pandas\n",
    "from pybliometrics.scopus import ScopusSearch"
   ]
  },
  {
   "cell_type": "code",
   "execution_count": 3,
   "metadata": {},
   "outputs": [],
   "source": [
    "bib_fmt = \"\"\"\n",
    "@article{{{{{abbr}}},\n",
    "  title = {{{title}}},\n",
    "  author = {{{author}}},\n",
    "  year = {{{year}}},\n",
    "  volume = {{{volume}}},\n",
    "  issn = {{{issn}}},\n",
    "  abstract = {{{abstract}}},\n",
    "  journal = {{{journal}}},\n",
    "  keywords = {{{keywords}}},\n",
    "  \n",
    "}}\n",
    "\"\"\""
   ]
  },
  {
   "cell_type": "code",
   "execution_count": 4,
   "metadata": {},
   "outputs": [],
   "source": [
    "def format_item(result):\n",
    "    if result.author_names:\n",
    "        authors = \" and \".join(result.author_names.split(';'))\n",
    "    else:\n",
    "        authors = \"\"\n",
    "    \n",
    "    return(bib_fmt.format(\n",
    "        abbr=result.doi,\n",
    "        title=result.title,\n",
    "        author=result.author_names,\n",
    "        year=result.coverDate,\n",
    "        volume=result.issueIdentifier,\n",
    "        issn=result.issn,\n",
    "        abstract=result.description,\n",
    "        journal=result.publicationName,\n",
    "        keywords=result.authkeywords   \n",
    "    ))"
   ]
  },
  {
   "cell_type": "code",
   "execution_count": 5,
   "metadata": {},
   "outputs": [],
   "source": [
    "def write_results(results, filename):\n",
    "    buf = \"\"\n",
    "    for result in results:\n",
    "        buf += format_item(result)\n",
    "    with open(filename, \"wb\") as f:\n",
    "        f.write(buf.encode('utf8'))"
   ]
  },
  {
   "cell_type": "markdown",
   "metadata": {},
   "source": [
    "## JPSP"
   ]
  },
  {
   "cell_type": "code",
   "execution_count": 2,
   "metadata": {},
   "outputs": [
    {
     "name": "stdout",
     "output_type": "stream",
     "text": [
      "10035\n"
     ]
    }
   ],
   "source": [
    "s = ScopusSearch('ISSN ( 0022-3514 )')\n",
    "write_results(s.results, \"../data/JPSP.bib\")\n",
    "print(s.get_results_size())"
   ]
  },
  {
   "cell_type": "markdown",
   "metadata": {},
   "source": [
    "## JRP"
   ]
  },
  {
   "cell_type": "code",
   "execution_count": 6,
   "metadata": {},
   "outputs": [
    {
     "name": "stdout",
     "output_type": "stream",
     "text": [
      "2616\n"
     ]
    }
   ],
   "source": [
    "s = ScopusSearch('ISSN ( 0092-6566 )')\n",
    "write_results(s.results, \"../data/JRP.bib\")\n",
    "print(s.get_results_size())"
   ]
  },
  {
   "cell_type": "markdown",
   "metadata": {},
   "source": [
    "## JP"
   ]
  },
  {
   "cell_type": "code",
   "execution_count": 7,
   "metadata": {},
   "outputs": [
    {
     "name": "stdout",
     "output_type": "stream",
     "text": [
      "3576\n"
     ]
    }
   ],
   "source": [
    "s = ScopusSearch('ISSN ( 0022-3506 )')\n",
    "write_results(s.results, \"../data/JP.bib\")\n",
    "print(s.get_results_size())"
   ]
  },
  {
   "cell_type": "markdown",
   "metadata": {},
   "source": [
    "## EJP"
   ]
  },
  {
   "cell_type": "code",
   "execution_count": 8,
   "metadata": {},
   "outputs": [
    {
     "name": "stdout",
     "output_type": "stream",
     "text": [
      "1321\n"
     ]
    }
   ],
   "source": [
    "s = ScopusSearch('ISSN ( 0890-2070 )')\n",
    "write_results(s.results, \"../data/EJP.bib\")\n",
    "print(s.get_results_size())"
   ]
  },
  {
   "cell_type": "markdown",
   "metadata": {},
   "source": [
    "## PID"
   ]
  },
  {
   "cell_type": "code",
   "execution_count": 9,
   "metadata": {},
   "outputs": [
    {
     "name": "stdout",
     "output_type": "stream",
     "text": [
      "11322\n"
     ]
    }
   ],
   "source": [
    "s = ScopusSearch('ISSN ( 0191-8869 )')\n",
    "write_results(s.results, \"../data/PID.bib\")\n",
    "print(s.get_results_size())"
   ]
  },
  {
   "cell_type": "markdown",
   "metadata": {},
   "source": [
    "## PSPB"
   ]
  },
  {
   "cell_type": "code",
   "execution_count": 10,
   "metadata": {},
   "outputs": [
    {
     "name": "stdout",
     "output_type": "stream",
     "text": [
      "3110\n"
     ]
    }
   ],
   "source": [
    "s = ScopusSearch('ISSN ( 0146-1672 )')\n",
    "write_results(s.results, \"../data/PSPB.bib\")\n",
    "print(s.get_results_size())"
   ]
  },
  {
   "cell_type": "markdown",
   "metadata": {},
   "source": [
    "## PSPR"
   ]
  },
  {
   "cell_type": "code",
   "execution_count": 11,
   "metadata": {},
   "outputs": [
    {
     "name": "stdout",
     "output_type": "stream",
     "text": [
      "470\n"
     ]
    }
   ],
   "source": [
    "s = ScopusSearch('ISSN ( 1088-8683 )')\n",
    "write_results(s.results, \"../data/PSPR.bib\")\n",
    "print(s.get_results_size())"
   ]
  },
  {
   "cell_type": "markdown",
   "metadata": {},
   "source": [
    "## SPPS"
   ]
  },
  {
   "cell_type": "code",
   "execution_count": 12,
   "metadata": {},
   "outputs": [
    {
     "name": "stdout",
     "output_type": "stream",
     "text": [
      "1110\n"
     ]
    }
   ],
   "source": [
    "s = ScopusSearch('ISSN ( 1948-5506 )')\n",
    "write_results(s.results, \"../data/SPPS.bib\")\n",
    "print(s.get_results_size())"
   ]
  },
  {
   "cell_type": "markdown",
   "metadata": {},
   "source": [
    "## JPA"
   ]
  },
  {
   "cell_type": "code",
   "execution_count": 13,
   "metadata": {},
   "outputs": [
    {
     "name": "stdout",
     "output_type": "stream",
     "text": [
      "4260\n"
     ]
    }
   ],
   "source": [
    "s = ScopusSearch('ISSN ( 0022-3891 )')\n",
    "write_results(s.results, \"../data/JPA.bib\")\n",
    "print(s.get_results_size())"
   ]
  },
  {
   "cell_type": "markdown",
   "metadata": {},
   "source": [
    "## SBP"
   ]
  },
  {
   "cell_type": "code",
   "execution_count": 14,
   "metadata": {},
   "outputs": [
    {
     "name": "stdout",
     "output_type": "stream",
     "text": [
      "2611\n"
     ]
    }
   ],
   "source": [
    "s = ScopusSearch('ISSN ( 0301-2212 )')\n",
    "write_results(s.results, \"../data/SBP.bib\")\n",
    "print(s.get_results_size())"
   ]
  }
 ],
 "metadata": {
  "kernelspec": {
   "display_name": "Python 3",
   "language": "python",
   "name": "python3"
  },
  "language_info": {
   "codemirror_mode": {
    "name": "ipython",
    "version": 3
   },
   "file_extension": ".py",
   "mimetype": "text/x-python",
   "name": "python",
   "nbconvert_exporter": "python",
   "pygments_lexer": "ipython3",
   "version": "3.7.3"
  }
 },
 "nbformat": 4,
 "nbformat_minor": 2
}
