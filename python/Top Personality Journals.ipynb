{
 "cells": [
  {
   "cell_type": "markdown",
   "metadata": {},
   "source": [
    "# Scopus Queries"
   ]
  },
  {
   "cell_type": "code",
   "execution_count": 6,
   "metadata": {},
   "outputs": [],
   "source": [
    "import pandas\n",
    "from pybliometrics.scopus import ScopusSearch"
   ]
  },
  {
   "cell_type": "code",
   "execution_count": 7,
   "metadata": {},
   "outputs": [],
   "source": [
    "bib_fmt = \"\"\"\n",
    "@article{{{{{abbr}}},\n",
    "  title = {{{title}}},\n",
    "  author = {{{author}}},\n",
    "  year = {{{year}}},\n",
    "  volume = {{{volume}}},\n",
    "  issn = {{{issn}}},\n",
    "  abstract = {{{abstract}}},\n",
    "  journal = {{{journal}}},\n",
    "  keywords = {{{keywords}}},\n",
    "  \n",
    "}}\n",
    "\"\"\""
   ]
  },
  {
   "cell_type": "code",
   "execution_count": 8,
   "metadata": {},
   "outputs": [],
   "source": [
    "def format_item(result):\n",
    "    if result.author_names:\n",
    "        authors = \" and \".join(result.author_names.split(';'))\n",
    "    else:\n",
    "        authors = \"\"\n",
    "    \n",
    "    return(bib_fmt.format(\n",
    "        abbr=result.doi,\n",
    "        title=result.title,\n",
    "        author=authors,\n",
    "        year=result.coverDate,\n",
    "        volume=result.issueIdentifier,\n",
    "        issn=result.issn,\n",
    "        abstract=result.description,\n",
    "        journal=result.publicationName,\n",
    "        keywords=result.authkeywords   \n",
    "    ))"
   ]
  },
  {
   "cell_type": "code",
   "execution_count": 9,
   "metadata": {},
   "outputs": [],
   "source": [
    "def write_results(results, filename):\n",
    "    buf = \"\"\n",
    "    for result in results:\n",
    "        buf += format_item(result)\n",
    "    with open(filename, \"wb\") as f:\n",
    "        f.write(buf.encode('utf8'))"
   ]
  },
  {
   "cell_type": "code",
   "execution_count": 10,
   "metadata": {},
   "outputs": [],
   "source": [
    "def run(journal_issn_map):\n",
    "    for title, journal in journal_issn_map.items():\n",
    "        print(\"Starting {}\".format(title))\n",
    "        s = ScopusSearch('ISSN ( {} )'.format(journal['issn']))\n",
    "        write_results(s.results, \"../data/{}\".format(journal['filename']))\n",
    "        print(s.get_results_size())"
   ]
  },
  {
   "cell_type": "markdown",
   "metadata": {},
   "source": [
    "## Define the journals to look up"
   ]
  },
  {
   "cell_type": "code",
   "execution_count": 12,
   "metadata": {},
   "outputs": [],
   "source": [
    "journal_issn_map = {\n",
    "    'JPSP': {\n",
    "        'issn': '0022-3514',\n",
    "        'filename': 'JPSP.bib'\n",
    "    },\n",
    "    'JRP': {\n",
    "        'issn': '0092-6566',\n",
    "        'filename': 'JRP.bib'\n",
    "    },\n",
    "    'JP': {\n",
    "        'issn': '0022-3506',\n",
    "        'filename': 'JP.bib'\n",
    "    },\n",
    "    'EJP': {\n",
    "        'issn': '0890-2070',\n",
    "        'filename': 'EJP.bib'\n",
    "    },\n",
    "    'PID': {\n",
    "        'issn': '0191-8869',\n",
    "        'filename': 'PID.bib'\n",
    "    },\n",
    "    'PSPB': {\n",
    "        'issn': '0146-1672',\n",
    "        'filename': 'PSPB.bib'\n",
    "    },\n",
    "    'PSPR': {\n",
    "        'issn': '1088-8683',\n",
    "        'filename': 'PSPR.bib'\n",
    "    },\n",
    "    'SPPS': {\n",
    "        'issn': '1948-5506',\n",
    "        'filename': 'SPPS.bib'\n",
    "    },\n",
    "    'JPA': {\n",
    "        'issn': '0022-3891',\n",
    "        'filename': 'JPA.bib'\n",
    "    },\n",
    "    'SBP': {\n",
    "        'issn': '0301-2212',\n",
    "        'filename': 'SBP.bib'\n",
    "    },\n",
    "}"
   ]
  },
  {
   "cell_type": "markdown",
   "metadata": {},
   "source": [
    "## Look up the articles"
   ]
  },
  {
   "cell_type": "code",
   "execution_count": 13,
   "metadata": {},
   "outputs": [
    {
     "name": "stdout",
     "output_type": "stream",
     "text": [
      "Starting JPSP\n",
      "10035\n",
      "Starting JRP\n",
      "2616\n",
      "Starting JP\n",
      "3576\n",
      "Starting EJP\n",
      "1321\n",
      "Starting PID\n",
      "11322\n",
      "Starting PSPB\n",
      "3110\n",
      "Starting PSPR\n",
      "470\n",
      "Starting SPPS\n",
      "1110\n",
      "Starting JPA\n",
      "4260\n",
      "Starting SBP\n",
      "2611\n"
     ]
    }
   ],
   "source": [
    "run(journal_issn_map)"
   ]
  }
 ],
 "metadata": {
  "kernelspec": {
   "display_name": "Python 3",
   "language": "python",
   "name": "python3"
  },
  "language_info": {
   "codemirror_mode": {
    "name": "ipython",
    "version": 3
   },
   "file_extension": ".py",
   "mimetype": "text/x-python",
   "name": "python",
   "nbconvert_exporter": "python",
   "pygments_lexer": "ipython3",
   "version": "3.7.3"
  }
 },
 "nbformat": 4,
 "nbformat_minor": 2
}
