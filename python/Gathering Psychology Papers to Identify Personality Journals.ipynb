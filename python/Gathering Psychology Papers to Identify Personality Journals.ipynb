{
 "cells": [
  {
   "cell_type": "code",
   "execution_count": 5,
   "metadata": {},
   "outputs": [],
   "source": [
    "import pandas\n",
    "from pybliometrics.scopus import ScopusSearch"
   ]
  },
  {
   "cell_type": "code",
   "execution_count": 6,
   "metadata": {},
   "outputs": [],
   "source": [
    "def run_query():\n",
    "    scopus_search = ScopusSearch('TITLE-ABS-KEY ( psychology )')\n",
    "    print(scopus_search.get_results_size())\n",
    "    return scopus_search"
   ]
  },
  {
   "cell_type": "code",
   "execution_count": 4,
   "metadata": {},
   "outputs": [],
   "source": [
    "bib_fmt = \"\"\"\n",
    "@article{{{{{abbr}}},\n",
    "  title = {{{title}}},\n",
    "  author = {{{author}}},\n",
    "  year = {{{year}}},\n",
    "  volume = {{{volume}}},\n",
    "  issn = {{{issn}}},\n",
    "  abstract = {{{abstract}}},\n",
    "  journal = {{{journal}}}\n",
    "}}\n",
    "\"\"\""
   ]
  },
  {
   "cell_type": "code",
   "execution_count": 2,
   "metadata": {},
   "outputs": [],
   "source": [
    "def format_item(result):\n",
    "    if result.author_ids is not None:\n",
    "        author_ids = result.author_ids.replace(\";\", \" and \")\n",
    "    else:\n",
    "        author_ids = \"\"\n",
    "\n",
    "    if result.authkeywords is not None:\n",
    "        keywords = result.authkeywords.replace(\" | \", \", \")\n",
    "    else:\n",
    "        keywords = \"\"\n",
    "\n",
    "    try:\n",
    "        cover_date = result.coverDate.split(\"-\")[0]\n",
    "    except:\n",
    "        cover_date = 1900\n",
    "\n",
    "    return(bib_fmt.format(\n",
    "        abbr=result.doi,\n",
    "        title=result.title,\n",
    "        author=author_ids,\n",
    "        year=cover_date,\n",
    "        volume=result.issueIdentifier,\n",
    "        issn=result.issn,\n",
    "        abstract=result.description,\n",
    "        journal=result.publicationName,\n",
    "        keywords=keywords\n",
    "    ))"
   ]
  },
  {
   "cell_type": "code",
   "execution_count": 3,
   "metadata": {},
   "outputs": [],
   "source": [
    "def main_routine():\n",
    "    scopus_search = run_query()\n",
    "    \n",
    "    buf = \"\"\n",
    "    for result in scopus_search.results:\n",
    "        buf += format_item(result)\n",
    "\n",
    "    with open(\"psychology.bib\", \"w\") as f:\n",
    "        f.write(buf)"
   ]
  },
  {
   "cell_type": "code",
   "execution_count": null,
   "metadata": {},
   "outputs": [],
   "source": [
    "main_routine()"
   ]
  }
 ],
 "metadata": {
  "kernelspec": {
   "display_name": "Python 3",
   "language": "python",
   "name": "python3"
  },
  "language_info": {
   "codemirror_mode": {
    "name": "ipython",
    "version": 3
   },
   "file_extension": ".py",
   "mimetype": "text/x-python",
   "name": "python",
   "nbconvert_exporter": "python",
   "pygments_lexer": "ipython3",
   "version": "3.7.3"
  }
 },
 "nbformat": 4,
 "nbformat_minor": 4
}
